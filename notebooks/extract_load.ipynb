{
 "cells": [
  {
   "cell_type": "code",
   "execution_count": 27,
   "metadata": {},
   "outputs": [],
   "source": [
    "import pandas as pd\n"
   ]
  },
  {
   "cell_type": "code",
   "execution_count": 28,
   "metadata": {},
   "outputs": [
    {
     "name": "stderr",
     "output_type": "stream",
     "text": [
      "/tmp/ipykernel_11424/605586322.py:1: ParserWarning: Falling back to the 'python' engine because the 'c' engine does not support regex separators (separators > 1 char and different from '\\s+' are interpreted as regex); you can avoid this warning by specifying engine='python'.\n",
      "  df = pd.read_csv('./data/drone3.csv',sep='[;:]',index_col=False)\n",
      "/tmp/ipykernel_11424/605586322.py:1: ParserWarning: Length of header or names does not match length of data. This leads to a loss of data with index_col=False.\n",
      "  df = pd.read_csv('./data/drone3.csv',sep='[;:]',index_col=False)\n"
     ]
    }
   ],
   "source": [
    "df = pd.read_csv('./data/drone3.csv',sep='[;:]',index_col=False)"
   ]
  },
  {
   "cell_type": "code",
   "execution_count": 29,
   "metadata": {},
   "outputs": [
    {
     "data": {
      "text/html": [
       "<div>\n",
       "<style scoped>\n",
       "    .dataframe tbody tr th:only-of-type {\n",
       "        vertical-align: middle;\n",
       "    }\n",
       "\n",
       "    .dataframe tbody tr th {\n",
       "        vertical-align: top;\n",
       "    }\n",
       "\n",
       "    .dataframe thead th {\n",
       "        text-align: right;\n",
       "    }\n",
       "</style>\n",
       "<table border=\"1\" class=\"dataframe\">\n",
       "  <thead>\n",
       "    <tr style=\"text-align: right;\">\n",
       "      <th></th>\n",
       "      <th>track_id</th>\n",
       "      <th>type</th>\n",
       "      <th>traveled_d</th>\n",
       "      <th>avg_speed</th>\n",
       "      <th>lat</th>\n",
       "      <th>lon</th>\n",
       "      <th>speed</th>\n",
       "      <th>lon_acc</th>\n",
       "      <th>lat_acc</th>\n",
       "      <th>time</th>\n",
       "    </tr>\n",
       "  </thead>\n",
       "  <tbody>\n",
       "    <tr>\n",
       "      <th>0</th>\n",
       "      <td>1</td>\n",
       "      <td>Car</td>\n",
       "      <td>419.73</td>\n",
       "      <td>33.728231</td>\n",
       "      <td>37.982482</td>\n",
       "      <td>23.729523</td>\n",
       "      <td>31.0310</td>\n",
       "      <td>0.0476</td>\n",
       "      <td>-0.0501</td>\n",
       "      <td>0.0</td>\n",
       "    </tr>\n",
       "    <tr>\n",
       "      <th>1</th>\n",
       "      <td>2</td>\n",
       "      <td>Car</td>\n",
       "      <td>173.65</td>\n",
       "      <td>33.609869</td>\n",
       "      <td>37.979914</td>\n",
       "      <td>23.733339</td>\n",
       "      <td>40.4920</td>\n",
       "      <td>-0.0074</td>\n",
       "      <td>-0.1593</td>\n",
       "      <td>0.0</td>\n",
       "    </tr>\n",
       "    <tr>\n",
       "      <th>2</th>\n",
       "      <td>3</td>\n",
       "      <td>Car</td>\n",
       "      <td>374.39</td>\n",
       "      <td>31.938416</td>\n",
       "      <td>37.979915</td>\n",
       "      <td>23.733292</td>\n",
       "      <td>44.2296</td>\n",
       "      <td>-0.0142</td>\n",
       "      <td>-0.1395</td>\n",
       "      <td>0.0</td>\n",
       "    </tr>\n",
       "    <tr>\n",
       "      <th>3</th>\n",
       "      <td>4</td>\n",
       "      <td>Motorcycle</td>\n",
       "      <td>471.19</td>\n",
       "      <td>58.091304</td>\n",
       "      <td>37.979891</td>\n",
       "      <td>23.733233</td>\n",
       "      <td>64.7725</td>\n",
       "      <td>0.0326</td>\n",
       "      <td>-0.1309</td>\n",
       "      <td>0.0</td>\n",
       "    </tr>\n",
       "    <tr>\n",
       "      <th>4</th>\n",
       "      <td>5</td>\n",
       "      <td>Car</td>\n",
       "      <td>465.16</td>\n",
       "      <td>56.957816</td>\n",
       "      <td>37.979942</td>\n",
       "      <td>23.733220</td>\n",
       "      <td>47.1936</td>\n",
       "      <td>-0.0387</td>\n",
       "      <td>-0.2323</td>\n",
       "      <td>0.0</td>\n",
       "    </tr>\n",
       "    <tr>\n",
       "      <th>...</th>\n",
       "      <td>...</td>\n",
       "      <td>...</td>\n",
       "      <td>...</td>\n",
       "      <td>...</td>\n",
       "      <td>...</td>\n",
       "      <td>...</td>\n",
       "      <td>...</td>\n",
       "      <td>...</td>\n",
       "      <td>...</td>\n",
       "      <td>...</td>\n",
       "    </tr>\n",
       "    <tr>\n",
       "      <th>2490</th>\n",
       "      <td>2491</td>\n",
       "      <td>Bus</td>\n",
       "      <td>5.93</td>\n",
       "      <td>15.247751</td>\n",
       "      <td>37.982843</td>\n",
       "      <td>23.729156</td>\n",
       "      <td>14.8779</td>\n",
       "      <td>-0.0355</td>\n",
       "      <td>-0.3268</td>\n",
       "      <td>801.4</td>\n",
       "    </tr>\n",
       "    <tr>\n",
       "      <th>2491</th>\n",
       "      <td>2492</td>\n",
       "      <td>Car</td>\n",
       "      <td>8.41</td>\n",
       "      <td>21.630601</td>\n",
       "      <td>37.979890</td>\n",
       "      <td>23.733376</td>\n",
       "      <td>22.2954</td>\n",
       "      <td>0.0012</td>\n",
       "      <td>0.0364</td>\n",
       "      <td>801.4</td>\n",
       "    </tr>\n",
       "    <tr>\n",
       "      <th>2492</th>\n",
       "      <td>2493</td>\n",
       "      <td>Car</td>\n",
       "      <td>16.38</td>\n",
       "      <td>42.109375</td>\n",
       "      <td>37.979873</td>\n",
       "      <td>23.733310</td>\n",
       "      <td>43.9978</td>\n",
       "      <td>0.0281</td>\n",
       "      <td>-0.0962</td>\n",
       "      <td>801.4</td>\n",
       "    </tr>\n",
       "    <tr>\n",
       "      <th>2493</th>\n",
       "      <td>2494</td>\n",
       "      <td>Motorcycle</td>\n",
       "      <td>31.48</td>\n",
       "      <td>94.437932</td>\n",
       "      <td>37.979873</td>\n",
       "      <td>23.733336</td>\n",
       "      <td>98.8912</td>\n",
       "      <td>-1.8008</td>\n",
       "      <td>0.7762</td>\n",
       "      <td>801.6</td>\n",
       "    </tr>\n",
       "    <tr>\n",
       "      <th>2494</th>\n",
       "      <td>2495</td>\n",
       "      <td>Medium Vehicle</td>\n",
       "      <td>6.87</td>\n",
       "      <td>30.906398</td>\n",
       "      <td>37.979854</td>\n",
       "      <td>23.733287</td>\n",
       "      <td>32.5331</td>\n",
       "      <td>-0.0000</td>\n",
       "      <td>-0.0000</td>\n",
       "      <td>802.0</td>\n",
       "    </tr>\n",
       "  </tbody>\n",
       "</table>\n",
       "<p>2495 rows × 10 columns</p>\n",
       "</div>"
      ],
      "text/plain": [
       "      track_id             type   traveled_d   avg_speed        lat  \\\n",
       "0            1              Car       419.73   33.728231  37.982482   \n",
       "1            2              Car       173.65   33.609869  37.979914   \n",
       "2            3              Car       374.39   31.938416  37.979915   \n",
       "3            4       Motorcycle       471.19   58.091304  37.979891   \n",
       "4            5              Car       465.16   56.957816  37.979942   \n",
       "...        ...              ...          ...         ...        ...   \n",
       "2490      2491              Bus         5.93   15.247751  37.982843   \n",
       "2491      2492              Car         8.41   21.630601  37.979890   \n",
       "2492      2493              Car        16.38   42.109375  37.979873   \n",
       "2493      2494       Motorcycle        31.48   94.437932  37.979873   \n",
       "2494      2495   Medium Vehicle         6.87   30.906398  37.979854   \n",
       "\n",
       "            lon    speed   lon_acc   lat_acc   time  \n",
       "0     23.729523  31.0310    0.0476   -0.0501    0.0  \n",
       "1     23.733339  40.4920   -0.0074   -0.1593    0.0  \n",
       "2     23.733292  44.2296   -0.0142   -0.1395    0.0  \n",
       "3     23.733233  64.7725    0.0326   -0.1309    0.0  \n",
       "4     23.733220  47.1936   -0.0387   -0.2323    0.0  \n",
       "...         ...      ...       ...       ...    ...  \n",
       "2490  23.729156  14.8779   -0.0355   -0.3268  801.4  \n",
       "2491  23.733376  22.2954    0.0012    0.0364  801.4  \n",
       "2492  23.733310  43.9978    0.0281   -0.0962  801.4  \n",
       "2493  23.733336  98.8912   -1.8008    0.7762  801.6  \n",
       "2494  23.733287  32.5331   -0.0000   -0.0000  802.0  \n",
       "\n",
       "[2495 rows x 10 columns]"
      ]
     },
     "execution_count": 29,
     "metadata": {},
     "output_type": "execute_result"
    }
   ],
   "source": [
    "df"
   ]
  },
  {
   "cell_type": "code",
   "execution_count": 30,
   "metadata": {},
   "outputs": [
    {
     "data": {
      "text/plain": [
       "Index(['track_id', ' type', ' traveled_d', ' avg_speed', ' lat', ' lon',\n",
       "       ' speed', ' lon_acc', ' lat_acc', ' time'],\n",
       "      dtype='object')"
      ]
     },
     "execution_count": 30,
     "metadata": {},
     "output_type": "execute_result"
    }
   ],
   "source": [
    "df.columns"
   ]
  },
  {
   "cell_type": "code",
   "execution_count": 31,
   "metadata": {},
   "outputs": [],
   "source": [
    "df.columns = df.columns.str.replace(' ','')"
   ]
  },
  {
   "cell_type": "code",
   "execution_count": 32,
   "metadata": {},
   "outputs": [
    {
     "data": {
      "text/html": [
       "<div>\n",
       "<style scoped>\n",
       "    .dataframe tbody tr th:only-of-type {\n",
       "        vertical-align: middle;\n",
       "    }\n",
       "\n",
       "    .dataframe tbody tr th {\n",
       "        vertical-align: top;\n",
       "    }\n",
       "\n",
       "    .dataframe thead th {\n",
       "        text-align: right;\n",
       "    }\n",
       "</style>\n",
       "<table border=\"1\" class=\"dataframe\">\n",
       "  <thead>\n",
       "    <tr style=\"text-align: right;\">\n",
       "      <th></th>\n",
       "      <th>track_id</th>\n",
       "      <th>type</th>\n",
       "      <th>traveled_d</th>\n",
       "      <th>avg_speed</th>\n",
       "      <th>lat</th>\n",
       "      <th>lon</th>\n",
       "      <th>speed</th>\n",
       "      <th>lon_acc</th>\n",
       "      <th>lat_acc</th>\n",
       "      <th>time</th>\n",
       "    </tr>\n",
       "  </thead>\n",
       "  <tbody>\n",
       "    <tr>\n",
       "      <th>0</th>\n",
       "      <td>1</td>\n",
       "      <td>Car</td>\n",
       "      <td>419.73</td>\n",
       "      <td>33.728231</td>\n",
       "      <td>37.982482</td>\n",
       "      <td>23.729523</td>\n",
       "      <td>31.0310</td>\n",
       "      <td>0.0476</td>\n",
       "      <td>-0.0501</td>\n",
       "      <td>0.0</td>\n",
       "    </tr>\n",
       "    <tr>\n",
       "      <th>1</th>\n",
       "      <td>2</td>\n",
       "      <td>Car</td>\n",
       "      <td>173.65</td>\n",
       "      <td>33.609869</td>\n",
       "      <td>37.979914</td>\n",
       "      <td>23.733339</td>\n",
       "      <td>40.4920</td>\n",
       "      <td>-0.0074</td>\n",
       "      <td>-0.1593</td>\n",
       "      <td>0.0</td>\n",
       "    </tr>\n",
       "    <tr>\n",
       "      <th>2</th>\n",
       "      <td>3</td>\n",
       "      <td>Car</td>\n",
       "      <td>374.39</td>\n",
       "      <td>31.938416</td>\n",
       "      <td>37.979915</td>\n",
       "      <td>23.733292</td>\n",
       "      <td>44.2296</td>\n",
       "      <td>-0.0142</td>\n",
       "      <td>-0.1395</td>\n",
       "      <td>0.0</td>\n",
       "    </tr>\n",
       "    <tr>\n",
       "      <th>3</th>\n",
       "      <td>4</td>\n",
       "      <td>Motorcycle</td>\n",
       "      <td>471.19</td>\n",
       "      <td>58.091304</td>\n",
       "      <td>37.979891</td>\n",
       "      <td>23.733233</td>\n",
       "      <td>64.7725</td>\n",
       "      <td>0.0326</td>\n",
       "      <td>-0.1309</td>\n",
       "      <td>0.0</td>\n",
       "    </tr>\n",
       "    <tr>\n",
       "      <th>4</th>\n",
       "      <td>5</td>\n",
       "      <td>Car</td>\n",
       "      <td>465.16</td>\n",
       "      <td>56.957816</td>\n",
       "      <td>37.979942</td>\n",
       "      <td>23.733220</td>\n",
       "      <td>47.1936</td>\n",
       "      <td>-0.0387</td>\n",
       "      <td>-0.2323</td>\n",
       "      <td>0.0</td>\n",
       "    </tr>\n",
       "  </tbody>\n",
       "</table>\n",
       "</div>"
      ],
      "text/plain": [
       "   track_id         type  traveled_d  avg_speed        lat        lon  \\\n",
       "0         1          Car      419.73  33.728231  37.982482  23.729523   \n",
       "1         2          Car      173.65  33.609869  37.979914  23.733339   \n",
       "2         3          Car      374.39  31.938416  37.979915  23.733292   \n",
       "3         4   Motorcycle      471.19  58.091304  37.979891  23.733233   \n",
       "4         5          Car      465.16  56.957816  37.979942  23.733220   \n",
       "\n",
       "     speed  lon_acc  lat_acc  time  \n",
       "0  31.0310   0.0476  -0.0501   0.0  \n",
       "1  40.4920  -0.0074  -0.1593   0.0  \n",
       "2  44.2296  -0.0142  -0.1395   0.0  \n",
       "3  64.7725   0.0326  -0.1309   0.0  \n",
       "4  47.1936  -0.0387  -0.2323   0.0  "
      ]
     },
     "execution_count": 32,
     "metadata": {},
     "output_type": "execute_result"
    }
   ],
   "source": [
    "df.head()"
   ]
  },
  {
   "cell_type": "code",
   "execution_count": 33,
   "metadata": {},
   "outputs": [],
   "source": [
    "df.to_csv('./data/drone3_clean.csv',index=False)"
   ]
  },
  {
   "cell_type": "code",
   "execution_count": 34,
   "metadata": {},
   "outputs": [
    {
     "data": {
      "text/plain": [
       "track_id      0\n",
       "type          0\n",
       "traveled_d    0\n",
       "avg_speed     0\n",
       "lat           0\n",
       "lon           0\n",
       "speed         0\n",
       "lon_acc       0\n",
       "lat_acc       0\n",
       "time          0\n",
       "dtype: int64"
      ]
     },
     "execution_count": 34,
     "metadata": {},
     "output_type": "execute_result"
    }
   ],
   "source": [
    "df.isnull().sum()"
   ]
  },
  {
   "cell_type": "code",
   "execution_count": 35,
   "metadata": {},
   "outputs": [
    {
     "data": {
      "text/plain": [
       "Index(['track_id', 'type', 'traveled_d', 'avg_speed', 'lat', 'lon', 'speed',\n",
       "       'lon_acc', 'lat_acc', 'time'],\n",
       "      dtype='object')"
      ]
     },
     "execution_count": 35,
     "metadata": {},
     "output_type": "execute_result"
    }
   ],
   "source": [
    "df.columns"
   ]
  },
  {
   "cell_type": "code",
   "execution_count": 36,
   "metadata": {},
   "outputs": [],
   "source": [
    "df.to_csv('./data/drone3_clean.csv',index=False)"
   ]
  },
  {
   "cell_type": "code",
   "execution_count": null,
   "metadata": {},
   "outputs": [],
   "source": []
  }
 ],
 "metadata": {
  "kernelspec": {
   "display_name": "Python 3.10.4 64-bit",
   "language": "python",
   "name": "python3"
  },
  "language_info": {
   "codemirror_mode": {
    "name": "ipython",
    "version": 3
   },
   "file_extension": ".py",
   "mimetype": "text/x-python",
   "name": "python",
   "nbconvert_exporter": "python",
   "pygments_lexer": "ipython3",
   "version": "3.10.4"
  },
  "orig_nbformat": 4,
  "vscode": {
   "interpreter": {
    "hash": "916dbcbb3f70747c44a77c7bcd40155683ae19c65e1c03b4aa3499c5328201f1"
   }
  }
 },
 "nbformat": 4,
 "nbformat_minor": 2
}
